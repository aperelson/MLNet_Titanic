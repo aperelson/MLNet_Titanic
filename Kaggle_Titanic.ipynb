{
 "cells": [
  {
   "cell_type": "code",
   "execution_count": 47,
   "metadata": {},
   "outputs": [],
   "source": [
    "#pandas\n",
    "import pandas as pd\n",
    "from pandas import Series,DataFrame\n",
    "\n",
    "# numpy, matplotlib, seaborn\n",
    "import numpy as np\n",
    "import matplotlib.pyplot as plt\n",
    "import seaborn as sns\n",
    "sns.set_style('whitegrid')\n",
    "%matplotlib inline\n",
    "\n",
    "# machine learning\n",
    "from sklearn.linear_model import LogisticRegression\n",
    "from sklearn.svm import SVC, LinearSVC\n",
    "from sklearn.ensemble import RandomForestClassifier\n",
    "from sklearn.ensemble import GradientBoostingClassifier\n",
    "from sklearn.ensemble import ExtraTreesClassifier\n",
    "from sklearn.ensemble import AdaBoostClassifier\n",
    "from sklearn.neighbors import KNeighborsClassifier\n",
    "from sklearn.naive_bayes import GaussianNB\n",
    "import sklearn"
   ]
  },
  {
   "cell_type": "code",
   "execution_count": 57,
   "metadata": {},
   "outputs": [],
   "source": [
    "# get titanic & test csv files as a DataFrame\n",
    "titanic_df = pd.read_csv(\"train.csv\")\n",
    "test_df    = pd.read_csv(\"test.csv\")\n",
    "\n",
    "# preview the data\n",
    "titanic_df.head();"
   ]
  },
  {
   "cell_type": "code",
   "execution_count": 58,
   "metadata": {},
   "outputs": [
    {
     "name": "stdout",
     "output_type": "stream",
     "text": [
      "----------------------------\n",
      "TRAINING DATA:\n",
      "----------------------------\n",
      "<class 'pandas.core.frame.DataFrame'>\n",
      "RangeIndex: 891 entries, 0 to 890\n",
      "Data columns (total 12 columns):\n",
      "PassengerId    891 non-null int64\n",
      "Survived       891 non-null int64\n",
      "Pclass         891 non-null int64\n",
      "Name           891 non-null object\n",
      "Sex            891 non-null object\n",
      "Age            714 non-null float64\n",
      "SibSp          891 non-null int64\n",
      "Parch          891 non-null int64\n",
      "Ticket         891 non-null object\n",
      "Fare           891 non-null float64\n",
      "Cabin          204 non-null object\n",
      "Embarked       889 non-null object\n",
      "dtypes: float64(2), int64(5), object(5)\n",
      "memory usage: 83.6+ KB\n",
      "----------------------------\n",
      "TESTING DATA:\n",
      "----------------------------\n",
      "<class 'pandas.core.frame.DataFrame'>\n",
      "RangeIndex: 418 entries, 0 to 417\n",
      "Data columns (total 11 columns):\n",
      "PassengerId    418 non-null int64\n",
      "Pclass         418 non-null int64\n",
      "Name           418 non-null object\n",
      "Sex            418 non-null object\n",
      "Age            332 non-null float64\n",
      "SibSp          418 non-null int64\n",
      "Parch          418 non-null int64\n",
      "Ticket         418 non-null object\n",
      "Fare           417 non-null float64\n",
      "Cabin          91 non-null object\n",
      "Embarked       418 non-null object\n",
      "dtypes: float64(2), int64(4), object(5)\n",
      "memory usage: 36.0+ KB\n"
     ]
    }
   ],
   "source": [
    "print(\"----------------------------\")\n",
    "print(\"TRAINING DATA:\")\n",
    "print(\"----------------------------\")\n",
    "titanic_df.info()\n",
    "print(\"----------------------------\")\n",
    "print(\"TESTING DATA:\")\n",
    "print(\"----------------------------\")\n",
    "test_df.info()"
   ]
  },
  {
   "cell_type": "code",
   "execution_count": 59,
   "metadata": {
    "scrolled": true
   },
   "outputs": [
    {
     "data": {
      "image/png": "[encoded data removed]",
      "text/plain": [
       "<Figure size 432x288 with 1 Axes>"
      ]
     },
     "metadata": {
      "needs_background": "light"
     },
     "output_type": "display_data"
    }
   ],
   "source": [
    "def get_title(name):\n",
    "    if '.' in name:\n",
    "        return name.split(',')[1].split('.')[0].strip()\n",
    "    else:\n",
    "        return 'Unknown'\n",
    "\n",
    "def title_map(title):\n",
    "    if title in ['Mr']:\n",
    "        return 1\n",
    "    elif title in ['Master']:\n",
    "        return 3\n",
    "    elif title in ['Ms','Mlle','Miss']:\n",
    "        return 4\n",
    "    elif title in ['Mme','Mrs']:\n",
    "        return 5\n",
    "    else:\n",
    "        return 2\n",
    "    \n",
    "titanic_df['title'] = titanic_df['Name'].apply(get_title).apply(title_map)   \n",
    "test_df['title'] = test_df['Name'].apply(get_title).apply(title_map)\n",
    "\n",
    "title_xt = pd.crosstab(titanic_df['title'], titanic_df['Survived'])\n",
    "\n",
    "title_xt_pct = title_xt.div(title_xt.sum(1).astype(float), axis=0)\n",
    "\n",
    "title_xt_pct.plot(kind='bar', \n",
    "                  stacked=True, \n",
    "                  title='Survival Rate by title')\n",
    "plt.xlabel('title')\n",
    "t=plt.ylabel('Survival Rate')"
   ]
  },
  {
   "cell_type": "code",
   "execution_count": 60,
   "metadata": {},
   "outputs": [],
   "source": [
    "# drop unnecessary columns, these columns won't be useful in analysis and prediction\n",
    "titanic_df = titanic_df.drop(['PassengerId','Name','Ticket'], axis=1)\n",
    "test_df    = test_df.drop(['Name','Ticket'], axis=1)"
   ]
  },
  {
   "cell_type": "code",
   "execution_count": 62,
   "metadata": {},
   "outputs": [
    {
     "data": {
      "image/png": "[encoded data removed]",
      "text/plain": [
       "<Figure size 432x288 with 1 Axes>"
      ]
     },
     "metadata": {
      "needs_background": "light"
     },
     "output_type": "display_data"
    },
    {
     "data": {
      "image/png": "[encoded data removed]",
      "text/plain": [
       "<Figure size 432x288 with 1 Axes>"
      ]
     },
     "metadata": {
      "needs_background": "light"
     },
     "output_type": "display_data"
    }
   ],
   "source": [
    "# Embarked:\n",
    "ax = sns.countplot(x=\"Embarked\", data=titanic_df,\n",
    "              order = titanic_df['Embarked'].value_counts().index).set_title('Passenger count by port - Train Data');\n",
    "plt.show()\n",
    "ax = sns.countplot(x=\"Embarked\", data=test_df,\n",
    "              order = titanic_df['Embarked'].value_counts().index).set_title('Passenger count by port - Test Data');\n",
    "plt.show()"
   ]
  },
  {
   "cell_type": "code",
   "execution_count": 35,
   "metadata": {},
   "outputs": [],
   "source": [
    "# Embarked\n",
    "\n",
    "# Fill the two missing values with the highest occurring value, which is \"S\".\n",
    "titanic_df[\"Embarked\"] = titanic_df[\"Embarked\"].fillna(\"S\")"
   ]
  },
  {
   "cell_type": "code",
   "execution_count": 63,
   "metadata": {},
   "outputs": [
    {
     "data": {
      "image/png": "[encoded data removed]",
      "text/plain": [
       "<Figure size 432x288 with 1 Axes>"
      ]
     },
     "metadata": {
      "needs_background": "light"
     },
     "output_type": "display_data"
    }
   ],
   "source": [
    "# Survival rate by port of departure.\n",
    "# My assumption will be, based on the rate results below, that the port of departure dictated to a certain extent\n",
    "# which part of the ship the passengers were in. And thus, the Embarked value is import to the survival determination.\n",
    "\n",
    "title_xt = pd.crosstab(titanic_df['Embarked'], titanic_df['Survived'])\n",
    "title_xt_pct = title_xt.div(title_xt.sum(1).astype(float), axis=0)\n",
    "title_xt_pct.plot(kind='bar', stacked=True, title='Survival Rate by port')\n",
    "xlabel=plt.xlabel('port')\n",
    "ylabel=plt.ylabel('Survival Rate')"
   ]
  },
  {
   "cell_type": "code",
   "execution_count": 66,
   "metadata": {},
   "outputs": [],
   "source": [
    "def embarked_map(embarked):\n",
    "    if embarked in ['C']:\n",
    "        return 1\n",
    "    elif embarked in ['Q']:\n",
    "        return 2\n",
    "    else:\n",
    "        return 3\n",
    "                    \n",
    "titanic_df['embarkedport'] = titanic_df['Embarked'].apply(embarked_map)                       \n",
    "test_df['embarkedport'] = test_df['Embarked'].apply(embarked_map)    "
   ]
  },
  {
   "cell_type": "code",
   "execution_count": 72,
   "metadata": {},
   "outputs": [],
   "source": [
    "# drop another unnecessary column\n",
    "titanic_df = titanic_df.drop(['Embarked'], axis=1)\n",
    "test_df    = test_df.drop(['Embarked'], axis=1)"
   ]
  },
  {
   "cell_type": "code",
   "execution_count": 73,
   "metadata": {},
   "outputs": [
    {
     "name": "stdout",
     "output_type": "stream",
     "text": [
      "----------------------------\n",
      "TRAINING DATA:\n",
      "----------------------------\n",
      "<class 'pandas.core.frame.DataFrame'>\n",
      "RangeIndex: 891 entries, 0 to 890\n",
      "Data columns (total 10 columns):\n",
      "Survived        891 non-null int64\n",
      "Pclass          891 non-null int64\n",
      "Sex             891 non-null object\n",
      "Age             714 non-null float64\n",
      "SibSp           891 non-null int64\n",
      "Parch           891 non-null int64\n",
      "Fare            891 non-null float64\n",
      "Cabin           204 non-null object\n",
      "title           891 non-null int64\n",
      "embarkedport    891 non-null int64\n",
      "dtypes: float64(2), int64(6), object(2)\n",
      "memory usage: 69.7+ KB\n",
      "----------------------------\n",
      "   Survived  Pclass     Sex   Age  SibSp  Parch     Fare Cabin  title  \\\n",
      "0         0       3    male  22.0      1      0   7.2500   NaN      1   \n",
      "1         1       1  female  38.0      1      0  71.2833   C85      5   \n",
      "2         1       3  female  26.0      0      0   7.9250   NaN      4   \n",
      "3         1       1  female  35.0      1      0  53.1000  C123      5   \n",
      "4         0       3    male  35.0      0      0   8.0500   NaN      1   \n",
      "\n",
      "   embarkedport  \n",
      "0             3  \n",
      "1             1  \n",
      "2             3  \n",
      "3             3  \n",
      "4             3  \n",
      "----------------------------\n",
      "----------------------------\n",
      "----------------------------\n",
      "----------------------------\n",
      "TESTING DATA:\n",
      "----------------------------\n",
      "<class 'pandas.core.frame.DataFrame'>\n",
      "RangeIndex: 418 entries, 0 to 417\n",
      "Data columns (total 10 columns):\n",
      "PassengerId     418 non-null int64\n",
      "Pclass          418 non-null int64\n",
      "Sex             418 non-null object\n",
      "Age             332 non-null float64\n",
      "SibSp           418 non-null int64\n",
      "Parch           418 non-null int64\n",
      "Fare            417 non-null float64\n",
      "Cabin           91 non-null object\n",
      "title           418 non-null int64\n",
      "embarkedport    418 non-null int64\n",
      "dtypes: float64(2), int64(6), object(2)\n",
      "memory usage: 32.7+ KB\n",
      "----------------------------\n",
      "   PassengerId  Pclass     Sex   Age  SibSp  Parch     Fare Cabin  title  \\\n",
      "0          892       3    male  34.5      0      0   7.8292   NaN      1   \n",
      "1          893       3  female  47.0      1      0   7.0000   NaN      5   \n",
      "2          894       2    male  62.0      0      0   9.6875   NaN      1   \n",
      "3          895       3    male  27.0      0      0   8.6625   NaN      1   \n",
      "4          896       3  female  22.0      1      1  12.2875   NaN      5   \n",
      "\n",
      "   embarkedport  \n",
      "0             2  \n",
      "1             3  \n",
      "2             2  \n",
      "3             3  \n",
      "4             3  \n"
     ]
    }
   ],
   "source": [
    "print(\"----------------------------\")\n",
    "print(\"TRAINING DATA:\")\n",
    "print(\"----------------------------\")\n",
    "titanic_df.info();\n",
    "print(\"----------------------------\")\n",
    "print(titanic_df.head());\n",
    "print(\"----------------------------\")\n",
    "print(\"----------------------------\")\n",
    "print(\"----------------------------\")\n",
    "print(\"----------------------------\")\n",
    "print(\"TESTING DATA:\")\n",
    "print(\"----------------------------\")\n",
    "test_df.info();\n",
    "print(\"----------------------------\")\n",
    "print(test_df.head());"
   ]
  },
  {
   "cell_type": "code",
   "execution_count": null,
   "metadata": {},
   "outputs": [],
   "source": []
  }
 ],
 "metadata": {
  "kernelspec": {
   "display_name": "Python 3",
   "language": "python",
   "name": "python3"
  },
  "language_info": {
   "codemirror_mode": {
    "name": "ipython",
    "version": 3
   },
   "file_extension": ".py",
   "mimetype": "text/x-python",
   "name": "python",
   "nbconvert_exporter": "python",
   "pygments_lexer": "ipython3",
   "version": "3.7.0"
  }
 },
 "nbformat": 4,
 "nbformat_minor": 2
}
